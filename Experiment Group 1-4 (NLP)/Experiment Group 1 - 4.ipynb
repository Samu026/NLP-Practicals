{
 "cells": [
  {
   "cell_type": "code",
   "execution_count": 16,
   "id": "6011fd8a",
   "metadata": {},
   "outputs": [],
   "source": [
    "## Step 1: Import Libraries\n",
    "import torch\n",
    "import torch.nn as nn\n",
    "import math\n",
    "import matplotlib.pyplot as plt"
   ]
  },
  {
   "cell_type": "code",
   "execution_count": 17,
   "id": "464cc785",
   "metadata": {},
   "outputs": [],
   "source": [
    "import matplotlib.pyplot as plt"
   ]
  },
  {
   "cell_type": "code",
   "execution_count": 18,
   "id": "0a00902e",
   "metadata": {},
   "outputs": [],
   "source": [
    "## Step 2: Positional Encoding\n",
    "class PositionalEncoding(nn.Module):\n",
    "    def __init__(self, d_model, max_len=5000):\n",
    "        super().__init__()\n",
    "        pe = torch.zeros(max_len, d_model)\n",
    "        position = torch.arange(0, max_len).unsqueeze(1)\n",
    "        div_term = torch.exp(torch.arange(0, d_model, 2) * (-math.log(10000.0) / d_model))\n",
    "        \n",
    "        pe[:, 0::2] = torch.sin(position * div_term)\n",
    "        pe[:, 1::2] = torch.cos(position * div_term)\n",
    "        \n",
    "        pe = pe.unsqueeze(0)  # shape (1, max_len, d_model)\n",
    "        self.register_buffer('pe', pe)\n",
    "\n",
    "    def forward(self, x):\n",
    "        x = x + self.pe[:, :x.size(1)]\n",
    "        return x"
   ]
  },
  {
   "cell_type": "code",
   "execution_count": 19,
   "id": "e3594797",
   "metadata": {},
   "outputs": [],
   "source": [
    "## Step 3: Scaled Dot-Product Attention\n",
    "def scaled_dot_product_attention(query, key, value, mask=None):\n",
    "    d_k = query.size(-1)\n",
    "    scores = torch.matmul(query, key.transpose(-2, -1)) / math.sqrt(d_k)\n",
    "    if mask is not None:\n",
    "        scores = scores.masked_fill(mask == 0, -1e9)\n",
    "    attn = torch.softmax(scores, dim=-1)\n",
    "    output = torch.matmul(attn, value)\n",
    "    return output, attn"
   ]
  },
  {
   "cell_type": "code",
   "execution_count": 20,
   "id": "71688811",
   "metadata": {},
   "outputs": [],
   "source": [
    "## Step 4: Multi-Head Attention Layer\n",
    "class MultiHeadAttention(nn.Module):\n",
    "    def __init__(self, d_model, num_heads):\n",
    "        super().__init__()\n",
    "        assert d_model % num_heads == 0\n",
    "\n",
    "        self.d_k = d_model // num_heads\n",
    "        self.num_heads = num_heads\n",
    "\n",
    "        self.q_linear = nn.Linear(d_model, d_model)\n",
    "        self.k_linear = nn.Linear(d_model, d_model)\n",
    "        self.v_linear = nn.Linear(d_model, d_model)\n",
    "        self.out = nn.Linear(d_model, d_model)\n",
    "\n",
    "    def forward(self, q, k, v, mask=None):\n",
    "        batch_size = q.size(0)\n",
    "        \n",
    "        def transform(x, linear):\n",
    "            x = linear(x)\n",
    "            x = x.view(batch_size, -1, self.num_heads, self.d_k).transpose(1, 2)\n",
    "            return x\n",
    "\n",
    "        q, k, v = transform(q, self.q_linear), transform(k, self.k_linear), transform(v, self.v_linear)\n",
    "\n",
    "        scores, attn = scaled_dot_product_attention(q, k, v, mask)\n",
    "        scores = scores.transpose(1, 2).contiguous().view(batch_size, -1, self.num_heads * self.d_k)\n",
    "\n",
    "        return self.out(scores)"
   ]
  },
  {
   "cell_type": "code",
   "execution_count": 21,
   "id": "b1dbde54",
   "metadata": {},
   "outputs": [],
   "source": [
    "## Step 5: Feed Forward Network\n",
    "class FeedForward(nn.Module):\n",
    "    def __init__(self, d_model, d_ff=2048):\n",
    "        super().__init__()\n",
    "        self.linear1 = nn.Linear(d_model, d_ff)\n",
    "        self.relu = nn.ReLU()\n",
    "        self.linear2 = nn.Linear(d_ff, d_model)\n",
    "\n",
    "    def forward(self, x):\n",
    "        return self.linear2(self.relu(self.linear1(x)))"
   ]
  },
  {
   "cell_type": "code",
   "execution_count": 22,
   "id": "0d5c646c",
   "metadata": {},
   "outputs": [],
   "source": [
    "## Step 6: Encoder Layer\n",
    "class EncoderLayer(nn.Module):\n",
    "    def __init__(self, d_model, num_heads, d_ff, dropout=0.1):\n",
    "        super().__init__()\n",
    "        self.self_attn = MultiHeadAttention(d_model, num_heads)\n",
    "        self.ff = FeedForward(d_model, d_ff)\n",
    "        self.norm1 = nn.LayerNorm(d_model)\n",
    "        self.norm2 = nn.LayerNorm(d_model)\n",
    "        self.dropout = nn.Dropout(dropout)\n",
    "\n",
    "    def forward(self, x, mask=None):\n",
    "        x2 = self.norm1(x + self.dropout(self.self_attn(x, x, x, mask)))\n",
    "        x = self.norm2(x2 + self.dropout(self.ff(x2)))\n",
    "        return x"
   ]
  },
  {
   "cell_type": "code",
   "execution_count": 23,
   "id": "9946d24d",
   "metadata": {},
   "outputs": [],
   "source": [
    "## Step 7: Encoder\n",
    "class Encoder(nn.Module):\n",
    "    def __init__(self, vocab_size, d_model, num_layers, num_heads, d_ff, max_len=5000):\n",
    "        super().__init__()\n",
    "        self.embed = nn.Embedding(vocab_size, d_model)\n",
    "        self.pe = PositionalEncoding(d_model, max_len)\n",
    "        self.layers = nn.ModuleList([EncoderLayer(d_model, num_heads, d_ff) for _ in range(num_layers)])\n",
    "        self.norm = nn.LayerNorm(d_model)\n",
    "\n",
    "    def forward(self, src, mask=None):\n",
    "        x = self.embed(src)\n",
    "        x = self.pe(x)\n",
    "        for layer in self.layers:\n",
    "            x = layer(x, mask)\n",
    "        return self.norm(x)"
   ]
  },
  {
   "cell_type": "code",
   "execution_count": 24,
   "id": "f0b2316d",
   "metadata": {},
   "outputs": [],
   "source": [
    "## Step 8: Mini Transformer Model\n",
    "class TransformerModel(nn.Module):\n",
    "    def __init__(self, vocab_size, d_model=512, num_layers=2, num_heads=8, d_ff=2048):\n",
    "        super().__init__()\n",
    "        self.encoder = Encoder(vocab_size, d_model, num_layers, num_heads, d_ff)\n",
    "        self.decoder = nn.Linear(d_model, vocab_size)\n",
    "\n",
    "    def forward(self, src, mask=None):\n",
    "        enc_output = self.encoder(src, mask)\n",
    "        return self.decoder(enc_output)"
   ]
  },
  {
   "cell_type": "code",
   "execution_count": 25,
   "id": "68f92caf",
   "metadata": {},
   "outputs": [
    {
     "name": "stdout",
     "output_type": "stream",
     "text": [
      "Input shape: torch.Size([2, 10])\n",
      "Output shape: torch.Size([2, 10, 100])\n"
     ]
    }
   ],
   "source": [
    "## Step 9: Testing the Model\n",
    "# Dummy input (batch_size=2, seq_len=10)\n",
    "sample_input = torch.randint(0, 100, (2, 10))\n",
    "\n",
    "model = TransformerModel(vocab_size=100)\n",
    "output = model(sample_input)\n",
    "\n",
    "print(\"Input shape:\", sample_input.shape)\n",
    "print(\"Output shape:\", output.shape)"
   ]
  },
  {
   "cell_type": "code",
   "execution_count": 26,
   "id": "d4bf5765",
   "metadata": {},
   "outputs": [
    {
     "data": {
      "image/png": "[encoded data removed]",
      "text/plain": [
       "<Figure size 1000x600 with 1 Axes>"
      ]
     },
     "metadata": {},
     "output_type": "display_data"
    }
   ],
   "source": [
    "## Step 10: Visualizing Positional Encoding\n",
    "\n",
    "import matplotlib.pyplot as plt\n",
    "\n",
    "# Define PositionalEncoding class\n",
    "class PositionalEncoding(nn.Module):\n",
    "    def __init__(self, d_model, max_len=5000):\n",
    "        super().__init__()\n",
    "        pe = torch.zeros(max_len, d_model)\n",
    "        position = torch.arange(0, max_len).unsqueeze(1)\n",
    "        div_term = torch.exp(torch.arange(0, d_model, 2) * (-math.log(10000.0) / d_model))\n",
    "        \n",
    "        pe[:, 0::2] = torch.sin(position * div_term)\n",
    "        pe[:, 1::2] = torch.cos(position * div_term)\n",
    "        \n",
    "        pe = pe.unsqueeze(0)  # Shape: (1, max_len, d_model)\n",
    "        self.register_buffer('pe', pe)\n",
    "\n",
    "    def forward(self, x):\n",
    "        x = x + self.pe[:, :x.size(1)]\n",
    "        return x\n",
    "\n",
    "# Visualize positional encoding\n",
    "plt.figure(figsize=(10, 6))\n",
    "pe = PositionalEncoding(512).pe[0].detach().numpy()\n",
    "plt.plot(pe[:, :4])  # Plot the first 4 dimensions\n",
    "plt.title(\"Positional Encoding (First 4 Dimensions)\")\n",
    "plt.xlabel(\"Position\")\n",
    "plt.ylabel(\"Encoding Value\")\n",
    "plt.grid(True)\n",
    "plt.show()\n"
   ]
  }
 ],
 "metadata": {
  "kernelspec": {
   "display_name": "Python 3 (ipykernel)",
   "language": "python",
   "name": "python3"
  },
  "language_info": {
   "codemirror_mode": {
    "name": "ipython",
    "version": 3
   },
   "file_extension": ".py",
   "mimetype": "text/x-python",
   "name": "python",
   "nbconvert_exporter": "python",
   "pygments_lexer": "ipython3",
   "version": "3.11.5"
  }
 },
 "nbformat": 4,
 "nbformat_minor": 5
}
